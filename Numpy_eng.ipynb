{
 "cells": [
  {
   "cell_type": "markdown",
   "id": "dense-stanley",
   "metadata": {},
   "source": [
    "# NumPy  "
   ]
  },
  {
   "cell_type": "markdown",
   "id": "arabic-penalty",
   "metadata": {},
   "source": [
    "###### For Beginner"
   ]
  },
  {
   "cell_type": "markdown",
   "id": "intimate-ballot",
   "metadata": {},
   "source": [
    "NumPy is a popular Python library for numerical and scientific computing. It provides support for working with large, multi-dimensional arrays and matrices, along with a collection of mathematical functions to operate on these arrays. NumPy is an essential tool for data scientists, engineers, and researchers working with numerical data in Python.\n",
    "* concat me if you have any questions : Qusay AL-Btoush"
   ]
  },
  {
   "cell_type": "markdown",
   "id": "miniature-passage",
   "metadata": {},
   "source": [
    "* [https://github.com/qusaybtoush](http://)\n",
    "* [https://www.linkedin.com/in/qusayal-btoush/](http://)\n",
    "* [https://www.kaggle.com/qusaybtoush1990](http://)\n"
   ]
  },
  {
   "cell_type": "code",
   "execution_count": 1,
   "id": "third-gamma",
   "metadata": {},
   "outputs": [],
   "source": [
    "# import library numpy \n",
    "import numpy as np"
   ]
  },
  {
   "cell_type": "code",
   "execution_count": 61,
   "id": "marine-trinity",
   "metadata": {},
   "outputs": [
    {
     "name": "stdout",
     "output_type": "stream",
     "text": [
      "[1 2 3 4 5]\n",
      "[ 4  5  8  9 10]\n"
     ]
    }
   ],
   "source": [
    "# create array\n",
    "x= np.array([1,2,3,4,5])\n",
    "y= np.array([4,5,8,9,10])\n",
    "print (x)\n",
    "print (y)"
   ]
  },
  {
   "cell_type": "code",
   "execution_count": 7,
   "id": "skilled-field",
   "metadata": {},
   "outputs": [
    {
     "name": "stdout",
     "output_type": "stream",
     "text": [
      "[[1. 1. 1. 1.]\n",
      " [1. 1. 1. 1.]\n",
      " [1. 1. 1. 1.]]\n"
     ]
    }
   ],
   "source": [
    "#create array number 1 / just choice how many the rows and columns\n",
    "one = np.ones((3,4)) #3 rows, 4 column\n",
    "print(one)"
   ]
  },
  {
   "cell_type": "code",
   "execution_count": 9,
   "id": "complete-program",
   "metadata": {},
   "outputs": [
    {
     "name": "stdout",
     "output_type": "stream",
     "text": [
      "[[0. 0. 0.]\n",
      " [0. 0. 0.]\n",
      " [0. 0. 0.]\n",
      " [0. 0. 0.]\n",
      " [0. 0. 0.]]\n"
     ]
    }
   ],
   "source": [
    "#create array number 0 / just choice how many the rows and columns\n",
    "ze = np.zeros((5,3)) #5 rows, 3 column\n",
    "print(ze)"
   ]
  },
  {
   "cell_type": "code",
   "execution_count": 11,
   "id": "superb-disability",
   "metadata": {},
   "outputs": [
    {
     "name": "stdout",
     "output_type": "stream",
     "text": [
      "[[8 8 8 8 8 8]\n",
      " [8 8 8 8 8 8]\n",
      " [8 8 8 8 8 8]]\n"
     ]
    }
   ],
   "source": [
    "#create array with any number you want  / just choice how many the rows and columns and what the number you want\n",
    "fu = np.full((3,6),8) # 3 rows, 6 columns  and the number 8\n",
    "print(fu)"
   ]
  },
  {
   "cell_type": "code",
   "execution_count": 12,
   "id": "minute-surrey",
   "metadata": {},
   "outputs": [
    {
     "name": "stdout",
     "output_type": "stream",
     "text": [
      "[ 5 10 15 20 25 30]\n"
     ]
    }
   ],
   "source": [
    "#create array with range and step  \n",
    "st = np.arange(5,31,5) # start from 5 to 31 and the step 5 \n",
    "print(st)"
   ]
  },
  {
   "cell_type": "code",
   "execution_count": 21,
   "id": "civilian-country",
   "metadata": {},
   "outputs": [
    {
     "name": "stdout",
     "output_type": "stream",
     "text": [
      "[1.  1.8 2.6 3.4 4.2 5. ]\n"
     ]
    }
   ],
   "source": [
    "#create array with range and how many element you want  \n",
    "li = np.linspace(1,5,6) # start from 1 to 5 and 6 elements \n",
    "print(li)"
   ]
  },
  {
   "cell_type": "code",
   "execution_count": 24,
   "id": "associate-capitol",
   "metadata": {},
   "outputs": [
    {
     "data": {
      "text/plain": [
       "array([[1., 0., 0., 0.],\n",
       "       [0., 1., 0., 0.],\n",
       "       [0., 0., 1., 0.],\n",
       "       [0., 0., 0., 1.]])"
      ]
     },
     "execution_count": 24,
     "metadata": {},
     "output_type": "execute_result"
    }
   ],
   "source": [
    "# creates a 4*4 identity matrix with ones on the main diagonal and zeros elsewhere\n",
    "np.eye(4)"
   ]
  },
  {
   "cell_type": "code",
   "execution_count": 31,
   "id": "international-glass",
   "metadata": {},
   "outputs": [
    {
     "data": {
      "text/plain": [
       "array([[0.07635816, 0.99177734],\n",
       "       [0.23383263, 0.93246568]])"
      ]
     },
     "execution_count": 31,
     "metadata": {},
     "output_type": "execute_result"
    }
   ],
   "source": [
    "# create random array 0 to 1 \n",
    "np.random.rand(2,2) #array 2 rows, 2 column and the element from 0 to 1"
   ]
  },
  {
   "cell_type": "code",
   "execution_count": 37,
   "id": "automated-coffee",
   "metadata": {},
   "outputs": [
    {
     "data": {
      "text/plain": [
       "array([[4, 0, 1, 0],\n",
       "       [2, 4, 0, 2],\n",
       "       [1, 1, 2, 4],\n",
       "       [2, 0, 3, 1]])"
      ]
     },
     "execution_count": 37,
     "metadata": {},
     "output_type": "execute_result"
    }
   ],
   "source": [
    "# create random array int number\n",
    "np.random.randint(5,size=(4,4)) # 5 the max number in the array from 0 to 5 you can choice any number than choice the size "
   ]
  },
  {
   "cell_type": "code",
   "execution_count": 39,
   "id": "colonial-positive",
   "metadata": {},
   "outputs": [
    {
     "name": "stdout",
     "output_type": "stream",
     "text": [
      "[[ 1  3  5  9]\n",
      " [10 15  6  8]]\n"
     ]
    }
   ],
   "source": [
    "# create array 2 dimension \n",
    "arr= np.array([[1,3,5,9],[10,15,6,8]])\n",
    "print (arr)"
   ]
  },
  {
   "cell_type": "code",
   "execution_count": 45,
   "id": "broadband-retail",
   "metadata": {},
   "outputs": [
    {
     "data": {
      "text/plain": [
       "2"
      ]
     },
     "execution_count": 45,
     "metadata": {},
     "output_type": "execute_result"
    }
   ],
   "source": [
    "#show the dimension array name  arr \n",
    "np.ndim(arr)  # using function ndim"
   ]
  },
  {
   "cell_type": "code",
   "execution_count": 72,
   "id": "civic-footage",
   "metadata": {},
   "outputs": [
    {
     "data": {
      "text/plain": [
       "array([ 1,  3,  5,  6,  8,  9, 10, 15])"
      ]
     },
     "execution_count": 72,
     "metadata": {},
     "output_type": "execute_result"
    }
   ],
   "source": [
    "#show the unique element \n",
    "np.unique(arr)"
   ]
  },
  {
   "cell_type": "code",
   "execution_count": 46,
   "id": "copyrighted-wilderness",
   "metadata": {},
   "outputs": [
    {
     "data": {
      "text/plain": [
       "(2, 4)"
      ]
     },
     "execution_count": 46,
     "metadata": {},
     "output_type": "execute_result"
    }
   ],
   "source": [
    "#show the shape array name  arr \n",
    "np.shape(arr) #using function shape , we have 2 rows and 4 columns "
   ]
  },
  {
   "cell_type": "code",
   "execution_count": 48,
   "id": "waiting-lodge",
   "metadata": {},
   "outputs": [
    {
     "data": {
      "text/plain": [
       "8"
      ]
     },
     "execution_count": 48,
     "metadata": {},
     "output_type": "execute_result"
    }
   ],
   "source": [
    "#show the size array name  arr \n",
    "np.size(arr)  #using function size, we have 8 element "
   ]
  },
  {
   "cell_type": "code",
   "execution_count": 52,
   "id": "domestic-oregon",
   "metadata": {},
   "outputs": [
    {
     "data": {
      "text/plain": [
       "dtype('int32')"
      ]
     },
     "execution_count": 52,
     "metadata": {},
     "output_type": "execute_result"
    }
   ],
   "source": [
    "#show ths data type, using function dtype \n",
    "arr.dtype"
   ]
  },
  {
   "cell_type": "code",
   "execution_count": 58,
   "id": "retired-dancing",
   "metadata": {},
   "outputs": [
    {
     "data": {
      "text/plain": [
       "dtype('bool')"
      ]
     },
     "execution_count": 58,
     "metadata": {},
     "output_type": "execute_result"
    }
   ],
   "source": [
    "# we can create with any kind of element in the array, like bool data type\n",
    "bol= np.array([True, False,False, False, True])\n",
    "bol.dtype"
   ]
  },
  {
   "cell_type": "code",
   "execution_count": 54,
   "id": "innovative-graduate",
   "metadata": {},
   "outputs": [
    {
     "data": {
      "text/plain": [
       "array([[ 8,  6, 15, 10],\n",
       "       [ 9,  5,  3,  1]])"
      ]
     },
     "execution_count": 54,
     "metadata": {},
     "output_type": "execute_result"
    }
   ],
   "source": [
    "# you can flip the array, using function flip \n",
    "np.flip(arr)"
   ]
  },
  {
   "cell_type": "code",
   "execution_count": 87,
   "id": "accompanied-retrieval",
   "metadata": {},
   "outputs": [
    {
     "data": {
      "text/plain": [
       "array([[ 1,  3,  5,  9],\n",
       "       [10, 15,  6,  8]])"
      ]
     },
     "execution_count": 87,
     "metadata": {},
     "output_type": "execute_result"
    }
   ],
   "source": [
    "#show the array arr\n",
    "arr"
   ]
  },
  {
   "cell_type": "code",
   "execution_count": 88,
   "id": "future-rabbit",
   "metadata": {},
   "outputs": [
    {
     "data": {
      "text/plain": [
       "array([10, 15,  6,  8])"
      ]
     },
     "execution_count": 88,
     "metadata": {},
     "output_type": "execute_result"
    }
   ],
   "source": [
    "#show the index [0]= fisrt rows 1= second rows\n",
    "arr[1]"
   ]
  },
  {
   "cell_type": "code",
   "execution_count": 92,
   "id": "comprehensive-sunset",
   "metadata": {},
   "outputs": [
    {
     "data": {
      "text/plain": [
       "array([ 3, 15])"
      ]
     },
     "execution_count": 92,
     "metadata": {},
     "output_type": "execute_result"
    }
   ],
   "source": [
    "#show the second column [:,1] this mean all rows, 1 first column\n",
    "arr[:,1]"
   ]
  },
  {
   "cell_type": "code",
   "execution_count": 95,
   "id": "decreased-monroe",
   "metadata": {},
   "outputs": [
    {
     "data": {
      "text/plain": [
       "6"
      ]
     },
     "execution_count": 95,
     "metadata": {},
     "output_type": "execute_result"
    }
   ],
   "source": [
    "#set the index [ row 1 and column 2] * the index here in numpy start from 0\n",
    "arr[1,2]"
   ]
  },
  {
   "cell_type": "code",
   "execution_count": 96,
   "id": "floral-acting",
   "metadata": {},
   "outputs": [
    {
     "data": {
      "text/plain": [
       "array([[ 1, 10],\n",
       "       [ 3, 15],\n",
       "       [ 5,  6],\n",
       "       [ 9,  8]])"
      ]
     },
     "execution_count": 96,
     "metadata": {},
     "output_type": "execute_result"
    }
   ],
   "source": [
    "#you can do transpose \n",
    "np.transpose(arr)"
   ]
  },
  {
   "cell_type": "code",
   "execution_count": 101,
   "id": "unlike-attack",
   "metadata": {},
   "outputs": [
    {
     "data": {
      "text/plain": [
       "array([[ 1,  3,  5,  9, 10],\n",
       "       [15,  6,  8,  1,  3],\n",
       "       [ 5,  9, 10, 15,  6],\n",
       "       [ 8,  1,  3,  5,  9],\n",
       "       [10, 15,  6,  8,  1]])"
      ]
     },
     "execution_count": 101,
     "metadata": {},
     "output_type": "execute_result"
    }
   ],
   "source": [
    "# using function resize you can resize the array \n",
    "np.resize(arr,(5,5))"
   ]
  },
  {
   "cell_type": "code",
   "execution_count": 102,
   "id": "suited-waters",
   "metadata": {},
   "outputs": [
    {
     "data": {
      "text/plain": [
       "array([ 1,  3,  5,  9, 10, 15,  6,  8,  1,  5,  6])"
      ]
     },
     "execution_count": 102,
     "metadata": {},
     "output_type": "execute_result"
    }
   ],
   "source": [
    "# using function append you can add new element\n",
    "np.append(arr,(1,5,6))"
   ]
  },
  {
   "cell_type": "code",
   "execution_count": 105,
   "id": "material-quarter",
   "metadata": {},
   "outputs": [
    {
     "data": {
      "text/plain": [
       "array([ 1,  5,  9, 10, 15,  6,  8])"
      ]
     },
     "execution_count": 105,
     "metadata": {},
     "output_type": "execute_result"
    }
   ],
   "source": [
    "#you can delete element , based on the index \n",
    "np.delete(arr,[1,1]) "
   ]
  },
  {
   "cell_type": "code",
   "execution_count": 62,
   "id": "perfect-spread",
   "metadata": {},
   "outputs": [
    {
     "name": "stdout",
     "output_type": "stream",
     "text": [
      "[1 2 3 4 5]\n",
      "[ 4  5  8  9 10]\n"
     ]
    }
   ],
   "source": [
    "# we defined 2 array at the first x and y\n",
    "print (x)\n",
    "print (y)"
   ]
  },
  {
   "cell_type": "code",
   "execution_count": 65,
   "id": "color-estate",
   "metadata": {},
   "outputs": [
    {
     "name": "stdout",
     "output_type": "stream",
     "text": [
      "[ 5  7 11 13 15]\n",
      "[-3 -3 -5 -5 -5]\n",
      "[0.25       0.4        0.375      0.44444444 0.5       ]\n",
      "[ 4 10 24 36 50]\n"
     ]
    }
   ],
   "source": [
    "#Array Mathematics, you can do any operations,\n",
    "# Subtraction, Addition, Division, Multiplication\n",
    "\n",
    "print (x + y )  #Addition\n",
    "print ( x - y )  #Subtraction\n",
    "print (x / y  ) #Division\n",
    "print (x * y )  #Multiplication"
   ]
  },
  {
   "cell_type": "code",
   "execution_count": 67,
   "id": "loved-mixture",
   "metadata": {},
   "outputs": [
    {
     "name": "stdout",
     "output_type": "stream",
     "text": [
      "[ 0.84147098  0.90929743  0.14112001 -0.7568025  -0.95892427]\n",
      "[1.         1.41421356 1.73205081 2.         2.23606798]\n",
      "[-0.65364362  0.28366219 -0.14550003 -0.91113026 -0.83907153]\n",
      "[1.38629436 1.60943791 2.07944154 2.19722458 2.30258509]\n"
     ]
    }
   ],
   "source": [
    "# you can do maths operations, like sin, sqrt, cos, log ...\n",
    "print (np.sin(x) )\n",
    "print (np.sqrt(x) )\n",
    "print (np.cos(y) )\n",
    "print (np.log(y) )\n"
   ]
  },
  {
   "cell_type": "code",
   "execution_count": 70,
   "id": "bearing-spectrum",
   "metadata": {},
   "outputs": [
    {
     "name": "stdout",
     "output_type": "stream",
     "text": [
      "[1 2 3 4 5]\n",
      "The Sum : 15\n",
      "The Minimum :  1\n",
      "The Maximum  5\n",
      "The Average : 3.0\n",
      "The Median :  3.0\n",
      "The Sort the array :  [1 2 3 4 5]\n"
     ]
    }
   ],
   "source": [
    "# as well you do statistic function sum, min, max, mean, median, and sort the array\n",
    "print (x)\n",
    "\n",
    "print (\"The Sum :\",np.sum(x) )\n",
    "print (\"The Minimum : \",np.min(x) )\n",
    "print (\"The Maximum \",np.max(x) )\n",
    "\n",
    "print (\"The Average :\",np.mean(x) )\n",
    "print (\"The Median : \" , np.median(x) )\n",
    "print (\"The Sort the array : \" , np.sort(x) )"
   ]
  },
  {
   "cell_type": "markdown",
   "id": "prescribed-weekend",
   "metadata": {},
   "source": [
    "### -----------------------------------------------------------------\n",
    "\n",
    "* concat me if you have any questions : Qusay AL-Btoush\n",
    "* [https://github.com/qusaybtoush](http://)\n",
    "* [https://www.linkedin.com/in/qusayal-btoush/](http://)\n",
    "* [https://www.kaggle.com/qusaybtoush1990](http://)\n"
   ]
  }
 ],
 "metadata": {
  "kernelspec": {
   "display_name": "Python 3",
   "language": "python",
   "name": "python3"
  },
  "language_info": {
   "codemirror_mode": {
    "name": "ipython",
    "version": 3
   },
   "file_extension": ".py",
   "mimetype": "text/x-python",
   "name": "python",
   "nbconvert_exporter": "python",
   "pygments_lexer": "ipython3",
   "version": "3.8.5"
  }
 },
 "nbformat": 4,
 "nbformat_minor": 5
}
